{
  "nbformat": 4,
  "nbformat_minor": 0,
  "metadata": {
    "colab": {
      "provenance": [],
      "authorship_tag": "ABX9TyO/N/CB3iugTrQ/Dv5gHP/m",
      "include_colab_link": true
    },
    "kernelspec": {
      "name": "python3",
      "display_name": "Python 3"
    },
    "language_info": {
      "name": "python"
    }
  },
  "cells": [
    {
      "cell_type": "markdown",
      "metadata": {
        "id": "view-in-github",
        "colab_type": "text"
      },
      "source": [
        "<a href=\"https://colab.research.google.com/github/goliakash/AI-and-ML-/blob/main/Lab_02.ipynb\" target=\"_parent\"><img src=\"https://colab.research.google.com/assets/colab-badge.svg\" alt=\"Open In Colab\"/></a>"
      ]
    },
    {
      "cell_type": "code",
      "execution_count": null,
      "metadata": {
        "colab": {
          "base_uri": "https://localhost:8080/"
        },
        "id": "pURx4N6v4U5-",
        "outputId": "36237ecd-c7d2-4f1c-9d76-10fa01eb6f7e"
      },
      "outputs": [
        {
          "output_type": "stream",
          "name": "stdout",
          "text": [
            " The adjacency List representing the graphs is: \n",
            "{0: [1, 2, 3], 1: [0, 2], 2: [0, 1, 3, 5], 3: [1, 2, 4], 4: [3, 5, 7], 5: [4, 6, 7], 6: [5, 7], 7: [4, 5, 6], 8: []}\n"
          ]
        }
      ],
      "source": [
        "import numpy as np\n",
        "from queue import Queue\n",
        "\n",
        "graph = {\n",
        "    0:[1, 2, 3],\n",
        "    1:[0, 2],\n",
        "    2:[0, 1, 3, 5],\n",
        "    3:[1, 2, 4],\n",
        "    4:[3, 5, 7],\n",
        "    5:[4, 6, 7],\n",
        "    6:[5, 7],\n",
        "    7:[4, 5, 6],\n",
        "    8:[]\n",
        "}\n",
        "print(\" The adjacency List representing the graphs is: \")\n",
        "print(graph)"
      ]
    },
    {
      "cell_type": "code",
      "source": [
        "def bfs(graph,source):\n",
        "  Q = Queue()\n",
        "  visited_vertices= set()\n",
        "  Q.put(source)\n",
        "  visited_vertices.update({source})\n",
        "\n",
        "  while not Q.empty():\n",
        "    vertex = Q.get()\n",
        "    print(vertex, end=\"-->\")\n",
        "\n",
        "    for u in graph[vertex]:\n",
        "      if u not in visited_vertices:\n",
        "        Q.put(u)\n",
        "        visited_vertices.update({u})\n",
        "print(\"BFS traversal of graph with source 0 is :\")\n",
        "bfs(graph, 0)"
      ],
      "metadata": {
        "colab": {
          "base_uri": "https://localhost:8080/"
        },
        "id": "Zj3-MIRh6mAh",
        "outputId": "4acfc0aa-361a-4776-8504-44880e43caf2"
      },
      "execution_count": null,
      "outputs": [
        {
          "output_type": "stream",
          "name": "stdout",
          "text": [
            "BFS traversal of graph with source 0 is :\n",
            "0-->1-->2-->3-->5-->4-->6-->7-->"
          ]
        }
      ]
    }
  ]
}